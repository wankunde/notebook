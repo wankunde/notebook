{
 "cells": [
  {
   "cell_type": "code",
   "execution_count": 3,
   "metadata": {},
   "outputs": [],
   "source": [
    "%%init_spark"
   ]
  },
  {
   "cell_type": "markdown",
   "metadata": {},
   "source": [
    "# Prepare test data"
   ]
  },
  {
   "cell_type": "code",
   "execution_count": 40,
   "metadata": {},
   "outputs": [
    {
     "name": "stdout",
     "output_type": "stream",
     "text": [
      "+----+-----+---+\n",
      "|year|month|num|\n",
      "+----+-----+---+\n",
      "|2017|    1| 10|\n",
      "|2017|    1|  5|\n",
      "|2017|    2| 20|\n",
      "|2018|    1|  5|\n",
      "|2018|    1|  5|\n",
      "+----+-----+---+\n",
      "\n"
     ]
    },
    {
     "data": {
      "text/plain": [
       "df: org.apache.spark.sql.DataFrame = [year: int, month: int ... 1 more field]\n",
       "df1: org.apache.spark.sql.DataFrame = [key1: string, value1: int]\n",
       "df2: org.apache.spark.sql.DataFrame = [key1: string, value1: int]\n"
      ]
     },
     "execution_count": 40,
     "metadata": {},
     "output_type": "execute_result"
    }
   ],
   "source": [
    "val df = Seq(\n",
    "    (2017, 1, 10),\n",
    "    (2017, 1, 5),\n",
    "    (2017, 2, 20),\n",
    "    (2018, 1, 5),\n",
    "    (2018, 1, 5)).toDF(\"year\",\"month\",\"num\")\n",
    "df.show()\n",
    "\n",
    "val df1 = Seq((\"k1\", 100), (\"k2\", 105), (\"k3\", 110)).toDF(\"key1\",\"value1\")\n",
    "val df2 = Seq((\"k1\", 50), (\"k2\", 200), (\"k4\", 300)).toDF(\"key1\",\"value1\")\n"
   ]
  },
  {
   "cell_type": "markdown",
   "metadata": {},
   "source": [
    "# Select"
   ]
  },
  {
   "cell_type": "code",
   "execution_count": 45,
   "metadata": {},
   "outputs": [
    {
     "name": "stdout",
     "output_type": "stream",
     "text": [
      "+----+-----+\n",
      "|year|month|\n",
      "+----+-----+\n",
      "|2017|    1|\n",
      "|2017|    1|\n",
      "|2017|    2|\n",
      "|2018|    1|\n",
      "|2018|    1|\n",
      "+----+-----+\n",
      "\n",
      "+----+-----+\n",
      "|year|month|\n",
      "+----+-----+\n",
      "|2017|    1|\n",
      "|2017|    1|\n",
      "|2017|    2|\n",
      "|2018|    1|\n",
      "|2018|    1|\n",
      "+----+-----+\n",
      "\n",
      "+----+-----+\n",
      "|year|month|\n",
      "+----+-----+\n",
      "|2017|    1|\n",
      "|2017|    1|\n",
      "|2017|    2|\n",
      "|2018|    1|\n",
      "|2018|    1|\n",
      "+----+-----+\n",
      "\n",
      "+----+-----+\n",
      "|year|month|\n",
      "+----+-----+\n",
      "|2017|    1|\n",
      "|2017|    1|\n",
      "|2017|    2|\n",
      "|2018|    1|\n",
      "|2018|    1|\n",
      "+----+-----+\n",
      "\n"
     ]
    }
   ],
   "source": [
    "df.select(\"year\", \"month\").show()\n",
    "df.select($\"year\", $\"month\").show()\n",
    "df.select(col(\"year\"), col(\"month\")).show()\n",
    "df.select(df.col(\"year\"), df.col(\"month\")).show()"
   ]
  },
  {
   "cell_type": "code",
   "execution_count": 49,
   "metadata": {},
   "outputs": [
    {
     "name": "stdout",
     "output_type": "stream",
     "text": [
      "+-----------+------------+\n",
      "|upper(year)|lower(month)|\n",
      "+-----------+------------+\n",
      "|       2017|           1|\n",
      "|       2017|           1|\n",
      "|       2017|           2|\n",
      "|       2018|           1|\n",
      "|       2018|           1|\n",
      "+-----------+------------+\n",
      "\n",
      "+---------------------------+------+\n",
      "|upper(CAST(year AS STRING))|newcol|\n",
      "+---------------------------+------+\n",
      "|                       2017|     1|\n",
      "|                       2017|     1|\n",
      "|                       2017|     2|\n",
      "|                       2018|     1|\n",
      "|                       2018|     1|\n",
      "+---------------------------+------+\n",
      "\n"
     ]
    }
   ],
   "source": [
    "df.select(upper($\"year\"), lower($\"month\")).show()\n",
    "\n",
    "df.selectExpr(\"upper(year)\",\"month as newcol\").show()"
   ]
  },
  {
   "cell_type": "markdown",
   "metadata": {},
   "source": [
    "# WithColumn & Drop"
   ]
  },
  {
   "cell_type": "code",
   "execution_count": 55,
   "metadata": {},
   "outputs": [
    {
     "name": "stdout",
     "output_type": "stream",
     "text": [
      "+----+-----+---+---+\n",
      "|year|month|num|day|\n",
      "+----+-----+---+---+\n",
      "|2017|    1| 10|  1|\n",
      "|2017|    1|  5|  1|\n",
      "|2017|    2| 20|  1|\n",
      "|2018|    1|  5|  1|\n",
      "|2018|    1|  5|  1|\n",
      "+----+-----+---+---+\n",
      "\n",
      "+----+-----+---+----+\n",
      "|year|month|num|num2|\n",
      "+----+-----+---+----+\n",
      "|2017|    1| 10|  20|\n",
      "|2017|    1|  5|  10|\n",
      "|2017|    2| 20|  40|\n",
      "|2018|    1|  5|  10|\n",
      "|2018|    1|  5|  10|\n",
      "+----+-----+---+----+\n",
      "\n",
      "+----+-----+---+----+\n",
      "|year|month|num|num3|\n",
      "+----+-----+---+----+\n",
      "|2017|    1| 10|  30|\n",
      "|2017|    1|  5|  15|\n",
      "|2017|    2| 20|  60|\n",
      "|2018|    1|  5|  15|\n",
      "|2018|    1|  5|  15|\n",
      "+----+-----+---+----+\n",
      "\n",
      "+----+-----+\n",
      "|year|month|\n",
      "+----+-----+\n",
      "|2017|    1|\n",
      "|2017|    1|\n",
      "|2017|    2|\n",
      "|2018|    1|\n",
      "|2018|    1|\n",
      "+----+-----+\n",
      "\n"
     ]
    }
   ],
   "source": [
    "df.withColumn(\"day\", lit(1)).show()\n",
    "df.withColumn(\"num2\", $\"num\" *2).show()\n",
    "df.withColumn(\"num3\", expr(\"num *3\")).show()\n",
    "\n",
    "df.drop(\"num\").show()"
   ]
  },
  {
   "cell_type": "markdown",
   "metadata": {},
   "source": [
    "# Where && Filter\n",
    "\n",
    "===是在Column类中定义的函数，对应的不等于是=!=。\n",
    "$\"列名\"这个是语法糖，返回Column对象"
   ]
  },
  {
   "cell_type": "code",
   "execution_count": 34,
   "metadata": {},
   "outputs": [
    {
     "name": "stdout",
     "output_type": "stream",
     "text": [
      "+----+-----+---+\n",
      "|year|month|num|\n",
      "+----+-----+---+\n",
      "|2017|    2| 20|\n",
      "+----+-----+---+\n",
      "\n",
      "+----+-----+---+\n",
      "|year|month|num|\n",
      "+----+-----+---+\n",
      "|2017|    1| 10|\n",
      "+----+-----+---+\n",
      "\n",
      "+----+-----+---+\n",
      "|year|month|num|\n",
      "+----+-----+---+\n",
      "|2017|    1| 10|\n",
      "+----+-----+---+\n",
      "\n",
      "+----+-----+---+\n",
      "|year|month|num|\n",
      "+----+-----+---+\n",
      "|2017|    1| 10|\n",
      "|2017|    1|  5|\n",
      "|2018|    1|  5|\n",
      "|2018|    1|  5|\n",
      "+----+-----+---+\n",
      "\n",
      "+----+-----+---+\n",
      "|year|month|num|\n",
      "+----+-----+---+\n",
      "|2017|    1| 10|\n",
      "|2017|    1|  5|\n",
      "|2018|    1|  5|\n",
      "|2018|    1|  5|\n",
      "+----+-----+---+\n",
      "\n"
     ]
    }
   ],
   "source": [
    "df.filter($\"num\">10).show()\n",
    "\n",
    "df.filter($\"num\"===10).show()\n",
    "\n",
    "df.filter(\"num=10\").show()\n",
    "\n",
    "df.filter($\"month\" > $\"num\" -10).show()\n",
    "\n",
    "df.filter($\"month\" > col(\"num\") -10).show()"
   ]
  },
  {
   "cell_type": "code",
   "execution_count": 33,
   "metadata": {},
   "outputs": [
    {
     "name": "stdout",
     "output_type": "stream",
     "text": [
      "+----+-----+---+\n",
      "|year|month|num|\n",
      "+----+-----+---+\n",
      "|2017|    2| 20|\n",
      "+----+-----+---+\n",
      "\n",
      "+----+-----+---+\n",
      "|year|month|num|\n",
      "+----+-----+---+\n",
      "|2017|    1| 10|\n",
      "+----+-----+---+\n",
      "\n",
      "+----+-----+---+\n",
      "|year|month|num|\n",
      "+----+-----+---+\n",
      "|2017|    1| 10|\n",
      "+----+-----+---+\n",
      "\n",
      "+----+-----+---+\n",
      "|year|month|num|\n",
      "+----+-----+---+\n",
      "|2017|    1| 10|\n",
      "|2017|    1|  5|\n",
      "|2018|    1|  5|\n",
      "|2018|    1|  5|\n",
      "+----+-----+---+\n",
      "\n",
      "+----+-----+---+\n",
      "|year|month|num|\n",
      "+----+-----+---+\n",
      "|2017|    1| 10|\n",
      "|2017|    1|  5|\n",
      "|2018|    1|  5|\n",
      "|2018|    1|  5|\n",
      "+----+-----+---+\n",
      "\n"
     ]
    }
   ],
   "source": [
    "df.where($\"num\">10).show()\n",
    "\n",
    "df.where($\"num\"===10).show()\n",
    "\n",
    "df.where(\"num=10\").show()\n",
    "\n",
    "df.where($\"month\" > $\"num\" -10).show()\n",
    "\n",
    "df.where($\"month\" > col(\"num\") -10).show()"
   ]
  },
  {
   "cell_type": "markdown",
   "metadata": {},
   "source": [
    "# Aggregate Function"
   ]
  },
  {
   "cell_type": "code",
   "execution_count": 15,
   "metadata": {},
   "outputs": [
    {
     "name": "stdout",
     "output_type": "stream",
     "text": [
      "+----+-----+---+\n",
      "|year|month|cnt|\n",
      "+----+-----+---+\n",
      "|2018|    1|  2|\n",
      "|2017|    2|  1|\n",
      "|2017|    1|  2|\n",
      "+----+-----+---+\n",
      "\n"
     ]
    }
   ],
   "source": [
    "df.groupBy(\"year\",\"month\").count.withColumnRenamed(\"count\", \"cnt\").show()"
   ]
  },
  {
   "cell_type": "code",
   "execution_count": 14,
   "metadata": {},
   "outputs": [
    {
     "name": "stdout",
     "output_type": "stream",
     "text": [
      "+----+-----+\n",
      "|year|month|\n",
      "+----+-----+\n",
      "|2018|    1|\n",
      "|2017|    2|\n",
      "|2017|    1|\n",
      "+----+-----+\n",
      "\n"
     ]
    }
   ],
   "source": [
    "df.select(\"year\",\"month\").distinct.sort($\"year\".desc, $\"month\".desc).show()"
   ]
  },
  {
   "cell_type": "code",
   "execution_count": 23,
   "metadata": {},
   "outputs": [
    {
     "name": "stdout",
     "output_type": "stream",
     "text": [
      "+----+---------+--------+\n",
      "|year|month_num|sum(num)|\n",
      "+----+---------+--------+\n",
      "|2017|        3|      35|\n",
      "|2018|        2|      10|\n",
      "+----+---------+--------+\n",
      "\n",
      "+----+------------+--------+\n",
      "|year|count(month)|sum(num)|\n",
      "+----+------------+--------+\n",
      "|2017|           3|      35|\n",
      "|2018|           2|      10|\n",
      "+----+------------+--------+\n",
      "\n"
     ]
    }
   ],
   "source": [
    "// 默认的名字后续操作真的不太好看，还是通过as重新命名比较好\n",
    "df.groupBy(\"year\").agg(count(\"month\").as(\"month_num\"), sum(\"num\")).sort($\"sum(num)\".desc).show()\n",
    "\n",
    "df.groupBy(\"year\").agg(\"month\" -> \"count\", \"num\" -> \"sum\").sort($\"sum(num)\".desc).show()"
   ]
  },
  {
   "cell_type": "markdown",
   "metadata": {},
   "source": [
    "# Join"
   ]
  },
  {
   "cell_type": "code",
   "execution_count": 65,
   "metadata": {},
   "outputs": [
    {
     "name": "stdout",
     "output_type": "stream",
     "text": [
      "+----+------+------+\n",
      "|key1|value1|value1|\n",
      "+----+------+------+\n",
      "|  k1|   100|    50|\n",
      "|  k2|   105|   200|\n",
      "+----+------+------+\n",
      "\n",
      "+----+------+----+------+\n",
      "|key1|value1|key1|value1|\n",
      "+----+------+----+------+\n",
      "|  k1|   100|  k1|    50|\n",
      "|  k2|   105|  k2|   200|\n",
      "+----+------+----+------+\n",
      "\n",
      "+----+------+----+------+\n",
      "|key1|value1|key1|value1|\n",
      "+----+------+----+------+\n",
      "|  k1|   100|  k1|    50|\n",
      "+----+------+----+------+\n",
      "\n",
      "+----+------+----+------+\n",
      "|key1|value1|key1|value1|\n",
      "+----+------+----+------+\n",
      "|  k2|   105|  k2|   200|\n",
      "|null|  null|  k4|   300|\n",
      "|  k1|   100|  k1|    50|\n",
      "|  k3|   110|null|  null|\n",
      "+----+------+----+------+\n",
      "\n",
      "+----+------+----+------+\n",
      "|key1|value1|key1|value1|\n",
      "+----+------+----+------+\n",
      "|  k1|   100|  k1|    50|\n",
      "|  k2|   105|  k2|   200|\n",
      "|  k3|   110|null|  null|\n",
      "+----+------+----+------+\n",
      "\n",
      "+----+------+\n",
      "|key1|value1|\n",
      "+----+------+\n",
      "|  k1|   100|\n",
      "|  k2|   105|\n",
      "+----+------+\n",
      "\n",
      "+----+------+----+------+\n",
      "|key1|value1|key1|value1|\n",
      "+----+------+----+------+\n",
      "|  k1|   100|  k1|    50|\n",
      "|  k1|   100|  k2|   200|\n",
      "|  k1|   100|  k4|   300|\n",
      "|  k2|   105|  k1|    50|\n",
      "|  k2|   105|  k2|   200|\n",
      "|  k2|   105|  k4|   300|\n",
      "|  k3|   110|  k1|    50|\n",
      "|  k3|   110|  k2|   200|\n",
      "|  k3|   110|  k4|   300|\n",
      "+----+------+----+------+\n",
      "\n"
     ]
    }
   ],
   "source": [
    "df1.join(df2, Seq(\"key1\")).show()\n",
    "\n",
    "df1.join(df2, df1.col(\"key1\") === df2.col(\"key1\")).show()\n",
    "\n",
    "df1.join(df2, df1.col(\"key1\") === df2.col(\"key1\") && df1.col(\"value1\") > df2.col(\"value1\")).show()\n",
    "\n",
    "df1.join(df2, df1.col(\"key1\") === df2.col(\"key1\"), \"outer\").show()\n",
    "\n",
    "df1.join(df2, df1.col(\"key1\") === df2.col(\"key1\"), \"left_outer\").show()\n",
    "\n",
    "df1.join(df2, df1.col(\"key1\") === df2.col(\"key1\"), \"semi\").show()\n",
    "\n",
    "df1.crossJoin(df2).show()"
   ]
  },
  {
   "cell_type": "code",
   "execution_count": null,
   "metadata": {},
   "outputs": [],
   "source": []
  }
 ],
 "metadata": {
  "kernelspec": {
   "display_name": "spylon-kernel",
   "language": "scala",
   "name": "spylon-kernel"
  },
  "language_info": {
   "codemirror_mode": "text/x-scala",
   "file_extension": ".scala",
   "help_links": [
    {
     "text": "MetaKernel Magics",
     "url": "https://metakernel.readthedocs.io/en/latest/source/README.html"
    }
   ],
   "mimetype": "text/x-scala",
   "name": "scala",
   "pygments_lexer": "scala",
   "version": "0.4.1"
  }
 },
 "nbformat": 4,
 "nbformat_minor": 4
}
