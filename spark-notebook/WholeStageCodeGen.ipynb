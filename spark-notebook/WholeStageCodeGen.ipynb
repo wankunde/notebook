{
 "cells": [
  {
   "cell_type": "markdown",
   "metadata": {},
   "source": [
    "# CodeGen parameter"
   ]
  },
  {
   "cell_type": "code",
   "execution_count": 49,
   "metadata": {},
   "outputs": [
    {
     "data": {
      "text/plain": [
       "import org.apache.spark.sql.internal.SQLConf.WHOLESTAGE_CODEGEN_ENABLED\n",
       "res24: String = true\n"
      ]
     },
     "execution_count": 49,
     "metadata": {},
     "output_type": "execute_result"
    }
   ],
   "source": [
    "import org.apache.spark.sql.internal.SQLConf.WHOLESTAGE_CODEGEN_ENABLED\n",
    "spark.conf.get(WHOLESTAGE_CODEGEN_ENABLED.key)"
   ]
  },
  {
   "cell_type": "code",
   "execution_count": 44,
   "metadata": {},
   "outputs": [
    {
     "data": {
      "text/plain": [
       "res19: Boolean = true\n"
      ]
     },
     "execution_count": 44,
     "metadata": {},
     "output_type": "execute_result"
    }
   ],
   "source": [
    "spark.sessionState.conf.wholeStageEnabled"
   ]
  },
  {
   "cell_type": "markdown",
   "metadata": {},
   "source": [
    "# whole stage code gen by rule"
   ]
  },
  {
   "cell_type": "code",
   "execution_count": 11,
   "metadata": {},
   "outputs": [
    {
     "name": "stdout",
     "output_type": "stream",
     "text": [
      "+---+-----+\n",
      "|gid|count|\n",
      "+---+-----+\n",
      "|  0|    5|\n",
      "|  1|    5|\n",
      "+---+-----+\n",
      "\n"
     ]
    },
    {
     "data": {
      "text/plain": [
       "q: org.apache.spark.sql.DataFrame = [gid: bigint, count: bigint]\n"
      ]
     },
     "execution_count": 11,
     "metadata": {},
     "output_type": "execute_result"
    }
   ],
   "source": [
    "val q = spark.range(10).groupBy('id % 2 as \"gid\").count()\n",
    "q.show()"
   ]
  },
  {
   "cell_type": "markdown",
   "metadata": {},
   "source": [
    "# 对比 SparkPlan 和 executedPlan"
   ]
  },
  {
   "cell_type": "code",
   "execution_count": 17,
   "metadata": {},
   "outputs": [
    {
     "name": "stdout",
     "output_type": "stream",
     "text": [
      "== Physical Plan ==\n",
      "*(2) HashAggregate(keys=[(id#31L % 2)#51L], functions=[count(1)])\n",
      "+- Exchange hashpartitioning((id#31L % 2)#51L, 200), true, [id=#57]\n",
      "   +- *(1) HashAggregate(keys=[(id#31L % 2) AS (id#31L % 2)#51L], functions=[partial_count(1)])\n",
      "      +- *(1) Range (0, 10, step=1, splits=4)\n",
      "\n",
      "\n"
     ]
    }
   ],
   "source": [
    "q.explain()"
   ]
  },
  {
   "cell_type": "code",
   "execution_count": 29,
   "metadata": {},
   "outputs": [
    {
     "data": {
      "text/plain": [
       "sparkPlan: org.apache.spark.sql.execution.SparkPlan =\n",
       "HashAggregate(keys=[(id#31L % 2)#51L], functions=[count(1)], output=[gid#33L, count#36L])\n",
       "+- HashAggregate(keys=[(id#31L % 2) AS (id#31L % 2)#51L], functions=[partial_count(1)], output=[(id#31L % 2)#51L, count#47L])\n",
       "   +- Range (0, 10, step=1, splits=4)\n"
      ]
     },
     "execution_count": 29,
     "metadata": {},
     "output_type": "execute_result"
    }
   ],
   "source": [
    "val sparkPlan = q.queryExecution.sparkPlan"
   ]
  },
  {
   "cell_type": "code",
   "execution_count": 30,
   "metadata": {},
   "outputs": [
    {
     "data": {
      "text/plain": [
       "executedPlan: org.apache.spark.sql.execution.SparkPlan =\n",
       "*(2) HashAggregate(keys=[(id#31L % 2)#51L], functions=[count(1)], output=[gid#33L, count#36L])\n",
       "+- Exchange hashpartitioning((id#31L % 2)#51L, 200), true, [id=#57]\n",
       "   +- *(1) HashAggregate(keys=[(id#31L % 2) AS (id#31L % 2)#51L], functions=[partial_count(1)], output=[(id#31L % 2)#51L, count#47L])\n",
       "      +- *(1) Range (0, 10, step=1, splits=4)\n"
      ]
     },
     "execution_count": 30,
     "metadata": {},
     "output_type": "execute_result"
    }
   ],
   "source": [
    "val executedPlan = q.queryExecution.executedPlan"
   ]
  },
  {
   "cell_type": "code",
   "execution_count": 64,
   "metadata": {},
   "outputs": [
    {
     "data": {
      "text/plain": [
       "res35: Seq[org.apache.spark.sql.execution.SparkPlan] =\n",
       "List(Exchange hashpartitioning((id#31L % 2)#51L, 200), true, [id=#57]\n",
       "+- *(1) HashAggregate(keys=[(id#31L % 2) AS (id#31L % 2)#51L], functions=[partial_count(1)], output=[(id#31L % 2)#51L, count#47L])\n",
       "   +- *(1) Range (0, 10, step=1, splits=4)\n",
       ")\n"
      ]
     },
     "execution_count": 64,
     "metadata": {},
     "output_type": "execute_result"
    }
   ],
   "source": [
    "executedPlan.children.head.children.head.children"
   ]
  },
  {
   "cell_type": "code",
   "execution_count": 63,
   "metadata": {},
   "outputs": [
    {
     "data": {
      "text/plain": [
       "res34: Seq[org.apache.spark.sql.execution.SparkPlan] =\n",
       "List(Exchange hashpartitioning((id#31L % 2)#51L, 200), true, [id=#57]\n",
       "+- *(1) HashAggregate(keys=[(id#31L % 2) AS (id#31L % 2)#51L], functions=[partial_count(1)], output=[(id#31L % 2)#51L, count#47L])\n",
       "   +- *(1) Range (0, 10, step=1, splits=4)\n",
       ")\n"
      ]
     },
     "execution_count": 63,
     "metadata": {},
     "output_type": "execute_result"
    }
   ],
   "source": [
    "executedPlan.children.head.children"
   ]
  },
  {
   "cell_type": "code",
   "execution_count": 25,
   "metadata": {},
   "outputs": [
    {
     "data": {
      "text/plain": [
       "import org.apache.spark.sql.execution.CollapseCodegenStages\n",
       "ccsRule: org.apache.spark.sql.execution.CollapseCodegenStages = CollapseCodegenStages(org.apache.spark.sql.internal.SQLConf@2d4b544,0)\n"
      ]
     },
     "execution_count": 25,
     "metadata": {},
     "output_type": "execute_result"
    }
   ],
   "source": [
    "import org.apache.spark.sql.execution.CollapseCodegenStages\n",
    "val ccsRule = CollapseCodegenStages(spark.sessionState.conf)\n"
   ]
  },
  {
   "cell_type": "code",
   "execution_count": 31,
   "metadata": {},
   "outputs": [
    {
     "data": {
      "text/plain": [
       "planAfterCCS: org.apache.spark.sql.execution.SparkPlan =\n",
       "*(3) HashAggregate(keys=[(id#31L % 2)#51L], functions=[count(1)], output=[gid#33L, count#36L])\n",
       "+- *(3) HashAggregate(keys=[(id#31L % 2) AS (id#31L % 2)#51L], functions=[partial_count(1)], output=[(id#31L % 2)#51L, count#47L])\n",
       "   +- *(3) Range (0, 10, step=1, splits=4)\n"
      ]
     },
     "execution_count": 31,
     "metadata": {},
     "output_type": "execute_result"
    }
   ],
   "source": [
    "val planAfterCCS = ccsRule(sparkPlan)"
   ]
  },
  {
   "cell_type": "code",
   "execution_count": 32,
   "metadata": {},
   "outputs": [
    {
     "data": {
      "text/plain": [
       "import org.apache.spark.sql.execution.exchange.EnsureRequirements\n",
       "erRule: org.apache.spark.sql.execution.exchange.EnsureRequirements = EnsureRequirements(org.apache.spark.sql.internal.SQLConf@2d4b544)\n",
       "planAfterER: org.apache.spark.sql.execution.SparkPlan =\n",
       "HashAggregate(keys=[(id#31L % 2)#51L], functions=[count(1)], output=[gid#33L, count#36L])\n",
       "+- Exchange hashpartitioning((id#31L % 2)#51L, 200), true, [id=#64]\n",
       "   +- HashAggregate(keys=[(id#31L % 2) AS (id#31L % 2)#51L], functions=[partial_count(1)], output=[(id#31L % 2)#51L, count#47L])\n",
       "      +- Range (0, 10, step=1, splits=4)\n"
      ]
     },
     "execution_count": 32,
     "metadata": {},
     "output_type": "execute_result"
    }
   ],
   "source": [
    "// The number of stage IDs do not match\n",
    "// Looks like the above misses one or more rules\n",
    "// EnsureRequirements optimization rule?\n",
    "// It is indeed executed before CollapseCodegenStages\n",
    "import org.apache.spark.sql.execution.exchange.EnsureRequirements\n",
    "val erRule = EnsureRequirements(spark.sessionState.conf)\n",
    "val planAfterER = erRule.apply(sparkPlan)"
   ]
  },
  {
   "cell_type": "code",
   "execution_count": 34,
   "metadata": {},
   "outputs": [
    {
     "data": {
      "text/plain": [
       "planAfterCCS: org.apache.spark.sql.execution.SparkPlan =\n",
       "*(7) HashAggregate(keys=[(id#31L % 2)#51L], functions=[count(1)], output=[gid#33L, count#36L])\n",
       "+- Exchange hashpartitioning((id#31L % 2)#51L, 200), true, [id=#72]\n",
       "   +- *(6) HashAggregate(keys=[(id#31L % 2) AS (id#31L % 2)#51L], functions=[partial_count(1)], output=[(id#31L % 2)#51L, count#47L])\n",
       "      +- *(6) Range (0, 10, step=1, splits=4)\n"
      ]
     },
     "execution_count": 34,
     "metadata": {},
     "output_type": "execute_result"
    }
   ],
   "source": [
    "val planAfterCCS = ccsRule(planAfterER)"
   ]
  },
  {
   "cell_type": "code",
   "execution_count": 36,
   "metadata": {},
   "outputs": [],
   "source": [
    "assert(planAfterCCS == q.queryExecution.executedPlan, \"Plan after ER and CCS rule should match the executed plan\")"
   ]
  },
  {
   "cell_type": "markdown",
   "metadata": {},
   "source": [
    "# executedPlan"
   ]
  },
  {
   "cell_type": "code",
   "execution_count": 40,
   "metadata": {},
   "outputs": [
    {
     "data": {
      "text/plain": [
       "import org.apache.spark.sql.execution.WholeStageCodegenExec\n",
       "wsce: org.apache.spark.sql.execution.WholeStageCodegenExec =\n",
       "*(2) HashAggregate(keys=[(id#31L % 2)#51L], functions=[count(1)], output=[gid#33L, count#36L])\n",
       "+- Exchange hashpartitioning((id#31L % 2)#51L, 200), true, [id=#57]\n",
       "   +- *(1) HashAggregate(keys=[(id#31L % 2) AS (id#31L % 2)#51L], functions=[partial_count(1)], output=[(id#31L % 2)#51L, count#47L])\n",
       "      +- *(1) Range (0, 10, step=1, splits=4)\n"
      ]
     },
     "execution_count": 40,
     "metadata": {},
     "output_type": "execute_result"
    }
   ],
   "source": [
    "import org.apache.spark.sql.execution.WholeStageCodegenExec\n",
    "val wsce = executedPlan.asInstanceOf[WholeStageCodegenExec]"
   ]
  },
  {
   "cell_type": "code",
   "execution_count": 41,
   "metadata": {},
   "outputs": [
    {
     "data": {
      "text/plain": [
       "import org.apache.spark.sql.execution.aggregate.HashAggregateExec\n",
       "hae: org.apache.spark.sql.execution.aggregate.HashAggregateExec =\n",
       "HashAggregate(keys=[(id#31L % 2)#51L], functions=[count(1)], output=[gid#33L, count#36L])\n",
       "+- Exchange hashpartitioning((id#31L % 2)#51L, 200), true, [id=#57]\n",
       "   +- *(1) HashAggregate(keys=[(id#31L % 2) AS (id#31L % 2)#51L], functions=[partial_count(1)], output=[(id#31L % 2)#51L, count#47L])\n",
       "      +- *(1) Range (0, 10, step=1, splits=4)\n"
      ]
     },
     "execution_count": 41,
     "metadata": {},
     "output_type": "execute_result"
    }
   ],
   "source": [
    "// The single child operator should be HashAggregateExec\n",
    "import org.apache.spark.sql.execution.aggregate.HashAggregateExec\n",
    "val hae = wsce.child.asInstanceOf[HashAggregateExec]"
   ]
  },
  {
   "cell_type": "code",
   "execution_count": 42,
   "metadata": {},
   "outputs": [
    {
     "data": {
      "text/plain": [
       "import org.apache.spark.sql.execution.InputAdapter\n",
       "ia: org.apache.spark.sql.execution.InputAdapter =\n",
       "Exchange hashpartitioning((id#31L % 2)#51L, 200), true, [id=#57]\n",
       "+- *(1) HashAggregate(keys=[(id#31L % 2) AS (id#31L % 2)#51L], functions=[partial_count(1)], output=[(id#31L % 2)#51L, count#47L])\n",
       "   +- *(1) Range (0, 10, step=1, splits=4)\n"
      ]
     },
     "execution_count": 42,
     "metadata": {},
     "output_type": "execute_result"
    }
   ],
   "source": [
    "// Since ShuffleExchangeExec does not support codegen, the child of HashAggregateExec is InputAdapter\n",
    "import org.apache.spark.sql.execution.InputAdapter\n",
    "val ia = hae.child.asInstanceOf[InputAdapter]"
   ]
  },
  {
   "cell_type": "code",
   "execution_count": 43,
   "metadata": {},
   "outputs": [
    {
     "data": {
      "text/plain": [
       "import org.apache.spark.sql.execution.exchange.ShuffleExchangeExec\n",
       "se: org.apache.spark.sql.execution.exchange.ShuffleExchangeExec =\n",
       "Exchange hashpartitioning((id#31L % 2)#51L, 200), true, [id=#57]\n",
       "+- *(1) HashAggregate(keys=[(id#31L % 2) AS (id#31L % 2)#51L], functions=[partial_count(1)], output=[(id#31L % 2)#51L, count#47L])\n",
       "   +- *(1) Range (0, 10, step=1, splits=4)\n"
      ]
     },
     "execution_count": 43,
     "metadata": {},
     "output_type": "execute_result"
    }
   ],
   "source": [
    "// And it's only now when we can get at ShuffleExchangeExec\n",
    "import org.apache.spark.sql.execution.exchange.ShuffleExchangeExec\n",
    "val se = ia.child.asInstanceOf[ShuffleExchangeExec]"
   ]
  },
  {
   "cell_type": "markdown",
   "metadata": {},
   "source": [
    "# InputAdapter"
   ]
  },
  {
   "attachments": {
    "image.png": {
     "image/png": "[encoded data removed]"
    }
   },
   "cell_type": "markdown",
   "metadata": {},
   "source": [
    "![image.png](attachment:image.png)"
   ]
  },
  {
   "cell_type": "code",
   "execution_count": 54,
   "metadata": {},
   "outputs": [
    {
     "name": "stdout",
     "output_type": "stream",
     "text": [
      "0) Exchange hashpartitioning((id#31L % 2)#51L, 200), true, [id=#57]\n",
      "+- *(1) HashAggregate(keys=[(id#31L % 2) AS (id#31L % 2)#51L], functions=[partial_count(1)], output=[(id#31L % 2)#51L, count#47L])\n",
      "   +- *(1) Range (0, 10, step=1, splits=4)\n",
      "\n"
     ]
    },
    {
     "data": {
      "text/plain": [
       "import org.apache.spark.sql.execution.InputAdapter\n",
       "adapters: Seq[org.apache.spark.sql.execution.InputAdapter] =\n",
       "ArrayBuffer(Exchange hashpartitioning((id#31L % 2)#51L, 200), true, [id=#57]\n",
       "+- *(1) HashAggregate(keys=[(id#31L % 2) AS (id#31L % 2)#51L], functions=[partial_count(1)], output=[(id#31L % 2)#51L, count#47L])\n",
       "   +- *(1) Range (0, 10, step=1, splits=4)\n",
       ")\n"
      ]
     },
     "execution_count": 54,
     "metadata": {},
     "output_type": "execute_result"
    }
   ],
   "source": [
    "// Find all InputAdapters in the physical query plan\n",
    "import org.apache.spark.sql.execution.InputAdapter\n",
    "val adapters = executedPlan.collect{ case a:InputAdapter => a}\n",
    "adapters.zipWithIndex.map{ case (op, idx) => s\"$idx) $op\"}.foreach(println)"
   ]
  },
  {
   "cell_type": "code",
   "execution_count": 58,
   "metadata": {},
   "outputs": [
    {
     "name": "stdout",
     "output_type": "stream",
     "text": [
      "\n",
      "\n",
      "\n",
      " while ( inputadapter_input_0.hasNext()) {\n",
      "   InternalRow inputadapter_row_0 = (InternalRow) inputadapter_input_0.next();\n",
      "   \n",
      "   append(inputadapter_row_0);\n",
      "   if (shouldStop()) return;\n",
      " }\n",
      "     \n",
      "     \n"
     ]
    },
    {
     "data": {
      "text/plain": [
       "import org.apache.spark.sql.catalyst.expressions.codegen.CodegenContext\n",
       "ctx: org.apache.spark.sql.catalyst.expressions.codegen.CodegenContext = org.apache.spark.sql.catalyst.expressions.codegen.CodegenContext@359f78f5\n",
       "import org.apache.spark.sql.execution.CodegenSupport\n",
       "code: String =\n",
       "\"\n",
       "\n",
       "\n",
       " while ( inputadapter_input_0.hasNext()) {\n",
       "   InternalRow inputadapter_row_0 = (InternalRow) inputadapter_input_0.next();\n",
       "\n",
       "   append(inputadapter_row_0);\n",
       "   if (shouldStop()) return;\n",
       " }\n",
       "\n",
       "     \"\n"
      ]
     },
     "execution_count": 58,
     "metadata": {},
     "output_type": "execute_result"
    }
   ],
   "source": [
    "import org.apache.spark.sql.catalyst.expressions.codegen.CodegenContext\n",
    "val ctx = new CodegenContext\n",
    "\n",
    "import org.apache.spark.sql.execution.CodegenSupport\n",
    "\n",
    "val code = adapters.head.produce(ctx, executedPlan.asInstanceOf[CodegenSupport])\n",
    "println(code)"
   ]
  }
 ],
 "metadata": {
  "kernelspec": {
   "display_name": "spylon-kernel",
   "language": "scala",
   "name": "spylon-kernel"
  },
  "language_info": {
   "codemirror_mode": "text/x-scala",
   "file_extension": ".scala",
   "help_links": [
    {
     "text": "MetaKernel Magics",
     "url": "https://metakernel.readthedocs.io/en/latest/source/README.html"
    }
   ],
   "mimetype": "text/x-scala",
   "name": "scala",
   "pygments_lexer": "scala",
   "version": "0.4.1"
  }
 },
 "nbformat": 4,
 "nbformat_minor": 4
}
